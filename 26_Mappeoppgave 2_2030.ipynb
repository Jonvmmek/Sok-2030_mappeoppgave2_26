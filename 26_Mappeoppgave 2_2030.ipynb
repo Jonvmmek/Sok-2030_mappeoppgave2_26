{
 "cells": [
  {
   "cell_type": "raw",
   "id": "81e9dda3-dc18-42b0-aff4-f170c8024943",
   "metadata": {},
   "source": [
    "---\n",
    "title: \"SOK-2030-Mappe2\"\n",
    "author: \"26\"\n",
    "format: \n",
    "  html:\n",
    "    code-fold: true\n",
    "jupyter: python3\n",
    "---"
   ]
  },
  {
   "cell_type": "markdown",
   "id": "fbf0c852-d943-4275-aa21-a392d2710aa8",
   "metadata": {},
   "source": [
    "# Mappeoppgave 2 i: SOK-2030 Næringsøkonomi og konkurransestrategi"
   ]
  },
  {
   "cell_type": "code",
   "execution_count": 1,
   "id": "674ccae5-b451-48ab-8ccc-d4a22590c970",
   "metadata": {},
   "outputs": [],
   "source": [
    "#| echo: false\n",
    "from sympy import *\n",
    "from matplotlib import pyplot as plt\n",
    "import numpy as np\n",
    "import sympy as sp"
   ]
  },
  {
   "cell_type": "markdown",
   "id": "1203dc2a-4761-499e-a478-a614720db33b",
   "metadata": {},
   "source": [
    "## Oppgave 1"
   ]
  },
  {
   "cell_type": "markdown",
   "id": "537cfa93-89ef-4dec-8e04-2b61a56bcfa3",
   "metadata": {},
   "source": [
    "Olivita AS ble etablert i 2002 av to professorer fra Universitetet i Tromsø (UiT). \n",
    "Selskapet tilbyr kosttilskuddet Olivita, som inneholder omega-3 og er utviklet for å støtte hjerte, ledd og immunforsvar.\n",
    "Produktet har vært patentbeskyttet frem til 2023, og Olivita har hatt eksklusiv rett til produksjon av dette\n",
    "omega-3 produktet. \n",
    "Etter patentets utløp har det nye selskapet Dr Choice AS kommet på markedet og tilbyr Easy Choice Omega-3. I markedet for omega-3 produkter vil Olivita AS fortsette å være en ledende aktør, mens Dr Choice AS vil utfordre som en nykommer.\n",
    "\n",
    "I dette marked er det følgende invers etterspørsel: 𝑃 = 990 − 1 60 (𝑞𝑂+𝑞𝐶) hvor 𝑞𝑂 er antall solgte flasker med Olivita, 𝑞𝐶 er antall solgte flasker Easy Choice Omega-3 og 𝑃 er pris per flaske av Omega-3 produktene. I produksjon av Omega-3 produktene vil begge bedriftene ha konstante marginalkostnader på kr 50 per produsert flaske. \n",
    "Faste kostnader for begge bedriftene er på 3 millioner kroner"
   ]
  },
  {
   "cell_type": "markdown",
   "id": "28e59bf7-526c-4d9f-b779-b7381a338545",
   "metadata": {},
   "source": [
    "Stackelberg modellen går ut på et strategisk spill hvor eksempelvis to bedrifter konkurrerer over produksjon.\n",
    "\n",
    "Hvis vi ser for oss at det er et gitt tak for antallet av et produkt i markedet går stackelberg konkurranse ut på å være den første til å finne ut, velge og produsere sin optimale mengde med produkter den kan introdusere inn i markedet.\n",
    "\n",
    "Den produsenten som får velge først har en stor fordel når det gjelder profittering i sitt marked."
   ]
  },
  {
   "cell_type": "markdown",
   "id": "b05e782e-37c4-43cd-9850-9a982db59f8b",
   "metadata": {},
   "source": [
    "MC = 50 (Marginalkostnad) \n",
    "\n",
    "lc = 3 000 000 (Fast Kostnad)\n",
    "\n",
    "invers etterspørsel: 𝑃 = 990 − 1/60 (𝑞0+𝑞𝐶)"
   ]
  },
  {
   "cell_type": "code",
   "execution_count": 2,
   "id": "bfb00be1-1d39-469c-8038-e8d896adbdce",
   "metadata": {},
   "outputs": [],
   "source": [
    "#| echo: false\n",
    "q1, q2,c, pi,i=symbols('q1 q2 c  pi i')\n",
    "\n",
    "def P_demand(Q):\n",
    "    return 990-(1/60)*Q\n",
    "\n",
    "def profit(q1,q2):\n",
    "    return (P_demand(q1+q2)-50)*q1-3000000"
   ]
  },
  {
   "cell_type": "markdown",
   "id": "b41a8987-530f-49d7-a7f5-bad10587c73a",
   "metadata": {},
   "source": [
    "### Baklengsinduksjon.\n",
    "RF til doctor choice, vi dereiverer profittfunksjon:\n",
    "\n",
    "(P-MC) - qc = 990 - 1/60 ( q0 - qc) - 50) * qc\n",
    "\n",
    "940 - 1/60 (q0 - qc) * qc\n",
    "\n",
    "940 - 1/60 * q - 1/30 * qc = 0\n",
    "\n",
    "1/30 * qc = 940 - 1/60 * qc\n",
    "\n",
    "qc = 30*(940 - 1/60 * qc)\n",
    "\n",
    "qc = 28200 - 1/2 * q0"
   ]
  },
  {
   "cell_type": "code",
   "execution_count": 3,
   "id": "4496e1b3-0bf9-459a-9569-aaf2b81ee4d9",
   "metadata": {},
   "outputs": [
    {
     "data": {
      "text/latex": [
       "$\\displaystyle - 0.0166666666666667 q_{1} - 0.0333333333333333 q_{2} + 940$"
      ],
      "text/plain": [
       "-0.0166666666666667*q1 - 0.0333333333333333*q2 + 940"
      ]
     },
     "execution_count": 3,
     "metadata": {},
     "output_type": "execute_result"
    }
   ],
   "source": [
    "#| echo: false\n",
    "d_profit2_Q=diff(profit(q2,q1),q2)\n",
    "d_profit2_Q"
   ]
  },
  {
   "cell_type": "code",
   "execution_count": 4,
   "id": "13e362b7-3c0d-4a12-b6f4-8d27c88d1c36",
   "metadata": {},
   "outputs": [
    {
     "data": {
      "text/latex": [
       "$\\displaystyle 28200.0 - 0.5 q_{1}$"
      ],
      "text/plain": [
       "28200.0 - 0.5*q1"
      ]
     },
     "execution_count": 4,
     "metadata": {},
     "output_type": "execute_result"
    }
   ],
   "source": [
    "#| echo: false\n",
    "Q2_sol1=solve(d_profit2_Q,q2)[0]\n",
    "Q2_sol1"
   ]
  },
  {
   "cell_type": "code",
   "execution_count": 5,
   "id": "da97968e-67d2-4fa1-b0eb-8abc60d61094",
   "metadata": {},
   "outputs": [
    {
     "data": {
      "text/latex": [
       "$\\displaystyle 470.0 - 0.0166666666666667 q_{1}$"
      ],
      "text/plain": [
       "470.0 - 0.0166666666666667*q1"
      ]
     },
     "execution_count": 5,
     "metadata": {},
     "output_type": "execute_result"
    }
   ],
   "source": [
    "#| echo: false\n",
    "d_profit_1=diff(profit(q1,Q2_sol1),q1)\n",
    "d_profit_1"
   ]
  },
  {
   "cell_type": "markdown",
   "id": "a57d91d6-f17c-4e67-8b6a-7b03285aae26",
   "metadata": {},
   "source": [
    "### optimalt kvantum til Olivita"
   ]
  },
  {
   "cell_type": "markdown",
   "id": "40670ff8-a821-4a79-8e5f-f6dad9d78053",
   "metadata": {},
   "source": [
    "### Sett inn 0\n",
    "(990 - 1/60(q0 + 28200 - 1/2 * q0) - 50) *q0\n",
    "\n",
    "(940 - 1/60(1/2 * q0 + 28200)) * q0"
   ]
  },
  {
   "cell_type": "markdown",
   "id": "519c9b39-accb-4d5d-a7f4-9144ca7b75d2",
   "metadata": {},
   "source": [
    "####  optimalt valg av q0\n",
    "0 = 28200"
   ]
  },
  {
   "cell_type": "code",
   "execution_count": 6,
   "id": "6f558376-c933-4c65-8c47-71bc5c7ca900",
   "metadata": {},
   "outputs": [
    {
     "data": {
      "text/latex": [
       "$\\displaystyle 28200.0$"
      ],
      "text/plain": [
       "28200.0000000000"
      ]
     },
     "execution_count": 6,
     "metadata": {},
     "output_type": "execute_result"
    }
   ],
   "source": [
    "#| echo: false\n",
    "Q1_sol=solve(d_profit_1,q1)[0]\n",
    "Q1_sol"
   ]
  },
  {
   "cell_type": "markdown",
   "id": "4d70a23c-38e6-4b00-882e-db0cd5365067",
   "metadata": {},
   "source": [
    "qc = 28200 = 1/2 = 14100"
   ]
  },
  {
   "cell_type": "code",
   "execution_count": 7,
   "id": "6e257de3-73bc-4e42-a92f-c485c1af9159",
   "metadata": {},
   "outputs": [
    {
     "data": {
      "text/latex": [
       "$\\displaystyle 14100.0$"
      ],
      "text/plain": [
       "14100.0000000000"
      ]
     },
     "execution_count": 7,
     "metadata": {},
     "output_type": "execute_result"
    }
   ],
   "source": [
    "#| echo: false\n",
    "Q2_sol2=Q2_sol1.subs({q1:Q1_sol})\n",
    "Q2_sol2"
   ]
  },
  {
   "cell_type": "code",
   "execution_count": 8,
   "id": "f8e7d45f-40ad-40a5-b500-656c3b831170",
   "metadata": {},
   "outputs": [],
   "source": [
    "#| echo: false\n",
    "def demand_(q1,q2):\n",
    "    return (990-1/60*(q1+q2))"
   ]
  },
  {
   "cell_type": "markdown",
   "id": "b429557a-cb2d-4ba1-9b94-883cf4702f03",
   "metadata": {},
   "source": [
    "#### Optimalt kvantum settes inn i ettersprøselsfunksjonen, og vi finner markedsprisen:\n",
    "P = 990 - 1/60 (2822 + 14100)\n",
    "P = 990 - 750 = 285"
   ]
  },
  {
   "cell_type": "code",
   "execution_count": 9,
   "id": "9a03552b-5814-4069-aaa3-c1e34d5ec7d0",
   "metadata": {},
   "outputs": [
    {
     "data": {
      "text/latex": [
       "$\\displaystyle 285.0$"
      ],
      "text/plain": [
       "285.000000000000"
      ]
     },
     "execution_count": 9,
     "metadata": {},
     "output_type": "execute_result"
    }
   ],
   "source": [
    "#| echo: false\n",
    "demand_(q1,q2).subs({q1:Q1_sol,q2:Q2_sol2})"
   ]
  },
  {
   "cell_type": "markdown",
   "id": "a0a7441b-c3f9-4868-9cda-ff2e06999f7c",
   "metadata": {},
   "source": [
    "###### Profitt for Doctor Choice"
   ]
  },
  {
   "cell_type": "code",
   "execution_count": 10,
   "id": "ffc26944-b62f-4686-a6d9-ab7c0269a98e",
   "metadata": {},
   "outputs": [
    {
     "data": {
      "text/latex": [
       "$\\displaystyle 313500.0$"
      ],
      "text/plain": [
       "313500.000000000"
      ]
     },
     "execution_count": 10,
     "metadata": {},
     "output_type": "execute_result"
    }
   ],
   "source": [
    "#| echo: false\n",
    "profit(q2,q1).subs({q1:Q1_sol,q2:Q2_sol2})"
   ]
  },
  {
   "cell_type": "markdown",
   "id": "a4229882-2e03-45bc-81c6-4e97c383f905",
   "metadata": {},
   "source": [
    "##### Profitt for Oliviated"
   ]
  },
  {
   "cell_type": "code",
   "execution_count": 11,
   "id": "8a28c340-f4d8-4aa6-beca-c3152386c416",
   "metadata": {},
   "outputs": [
    {
     "data": {
      "text/latex": [
       "$\\displaystyle 3627000.0$"
      ],
      "text/plain": [
       "3627000.00000000"
      ]
     },
     "execution_count": 11,
     "metadata": {},
     "output_type": "execute_result"
    }
   ],
   "source": [
    "#| echo: false\n",
    "profit(q1,q2).subs({q1:Q1_sol,q2:Q2_sol2})"
   ]
  },
  {
   "cell_type": "markdown",
   "id": "c732773d-0180-4d7f-9136-1fd7f139d58c",
   "metadata": {},
   "source": [
    "Hva blir optimal tilpasning i dette markedet når Olivita kan gjøre sine strategiske valg før konkurrenten, Dr Choice AS, gjør sitt valg?\n",
    "\n",
    "Vil det være en fordel for Olivita å ha mulighet til å gjøre sine valg før konkurrenten gjør sitt valg?"
   ]
  },
  {
   "cell_type": "markdown",
   "id": "3aa0e219-c240-4ed0-9b01-4520b0d54b50",
   "metadata": {},
   "source": [
    "Oliviated sin opptimale tilpasning blir 28200 med en profitt på 3 627 000.\n",
    "\n",
    "Doctor Choice: 14100 med en profitt på 313500.\n",
    "\n",
    "Som vi har regnet ut er det en drastisk forskjell på hva leder og følger tjener, Oliviated tjener mer en 10* ganger mer en Doctor Choice.\n",
    "\n",
    "Når oliviated får velge sin optimale mengde maksimerer de sin profitt mens Doctor Choice er ny i markedet å må gjøre valg basert på Oliviated og kan ikke annet en å fylle markedet deretter."
   ]
  },
  {
   "cell_type": "markdown",
   "id": "b0692508-cfdf-49e0-9134-9619db1f8610",
   "metadata": {},
   "source": [
    "## Oppgave 2"
   ]
  },
  {
   "cell_type": "markdown",
   "id": "76cbfb55-ad56-435a-adfa-b45d46ee73f3",
   "metadata": {},
   "source": [
    "#### Cournot Modell\n",
    "Cournot konkurranse, dette er når bedrifter konkurrerer med mengde produkt ute på markedet, dette kalles kvantums konkurranse.\n",
    "Jo nærmere monopol en produsent kommer jo mer kontroll har denne produsenten over sitt marked.\n",
    "\n",
    "I dette tilfellet prøver Mack å ta til seg mer av sitt marked ved å kjøpe opp andre, ved å kjøpe opp konkurrentene sine og fylle mer av markedet med sitt produkt er målet å tjene mer ved å ha mer av sitt produkt ute på markedet."
   ]
  },
  {
   "cell_type": "markdown",
   "id": "1a360c14-dc02-4851-9fc4-002476bc54ac",
   "metadata": {},
   "source": [
    "A)\n",
    "\n",
    "𝑃 = 175 − 4*𝑄\n",
    "\n",
    "MCm = 7 (Marginalkostnad Mack)\n",
    "\n",
    "MCbg = 10 (Marginalkostnad Bryggeri 13 og GraffBrygghus)\n",
    "\n",
    "lc = 300 000 (Fast Kostnad)"
   ]
  },
  {
   "cell_type": "code",
   "execution_count": 12,
   "id": "e0926793-69fe-4931-bd8c-527c1fa2cd24",
   "metadata": {},
   "outputs": [],
   "source": [
    "q1,q2,q3,c1,c2,c3, a, b=symbols('q1 q2 q3 c1 c2 c3 a b') "
   ]
  },
  {
   "cell_type": "code",
   "execution_count": 13,
   "id": "218bc407-5138-4409-acd8-41ef72653ecf",
   "metadata": {},
   "outputs": [],
   "source": [
    "#| echo: false\n",
    "def P_demand(Q,a,b):\n",
    "    return 175-4*Q\n",
    "\n",
    "def profit_(q1,q2,q3,c,a,b,fc):\n",
    "    return (P_demand(q1+q2+q3,a,b)-c)*q1 - fc"
   ]
  },
  {
   "cell_type": "code",
   "execution_count": 14,
   "id": "5d8c999e-1905-46d8-b1cb-1fd09cd8b855",
   "metadata": {},
   "outputs": [],
   "source": [
    "#| echo: false\n",
    "fc = 300"
   ]
  },
  {
   "cell_type": "markdown",
   "id": "1eaa7e09-6bc6-47d7-a039-f4067e8c8f22",
   "metadata": {},
   "source": [
    "### OP + Q\n",
    "A - C/B(N-1) => A - 3cm + 2cbg/4B\n",
    "\n",
    "qm = A - 3cbg + Cbg + cm/4B\n",
    "\n",
    "Q = qm + qB + qg"
   ]
  },
  {
   "cell_type": "code",
   "execution_count": 15,
   "id": "a1ab78ed-127d-467e-816a-2b7460f7d176",
   "metadata": {},
   "outputs": [
    {
     "data": {
      "text/latex": [
       "$\\displaystyle - c_{1} - 8 q_{1} - 4 q_{2} - 4 q_{3} + 175$"
      ],
      "text/plain": [
       "-c1 - 8*q1 - 4*q2 - 4*q3 + 175"
      ]
     },
     "metadata": {},
     "output_type": "display_data"
    },
    {
     "data": {
      "text/latex": [
       "$\\displaystyle - c_{2} - 4 q_{1} - 8 q_{2} - 4 q_{3} + 175$"
      ],
      "text/plain": [
       "-c2 - 4*q1 - 8*q2 - 4*q3 + 175"
      ]
     },
     "metadata": {},
     "output_type": "display_data"
    },
    {
     "data": {
      "text/latex": [
       "$\\displaystyle - c_{3} - 4 q_{1} - 4 q_{2} - 8 q_{3} + 175$"
      ],
      "text/plain": [
       "-c3 - 4*q1 - 4*q2 - 8*q3 + 175"
      ]
     },
     "metadata": {},
     "output_type": "display_data"
    }
   ],
   "source": [
    "#| echo: false\n",
    "d_profit1_Q=diff(profit_(q1,q2,q3,c1,a,b,fc),q1)\n",
    "d_profit2_Q=diff(profit_(q2,q1,q3,c2,a,b,fc),q2)\n",
    "d_profit3_Q=diff(profit_(q3,q2,q1,c3,a,b,fc),q3)\n",
    "display(d_profit1_Q)\n",
    "display(d_profit2_Q)\n",
    "display(d_profit3_Q)"
   ]
  },
  {
   "cell_type": "code",
   "execution_count": 16,
   "id": "52007e67-1f1d-44fb-b660-830c50430aa5",
   "metadata": {},
   "outputs": [
    {
     "data": {
      "text/latex": [
       "$\\displaystyle - \\frac{3 c_{1}}{16} + \\frac{c_{2}}{16} + \\frac{c_{3}}{16} + \\frac{175}{16}$"
      ],
      "text/plain": [
       "-3*c1/16 + c2/16 + c3/16 + 175/16"
      ]
     },
     "metadata": {},
     "output_type": "display_data"
    },
    {
     "data": {
      "text/latex": [
       "$\\displaystyle \\frac{c_{1}}{16} - \\frac{3 c_{2}}{16} + \\frac{c_{3}}{16} + \\frac{175}{16}$"
      ],
      "text/plain": [
       "c1/16 - 3*c2/16 + c3/16 + 175/16"
      ]
     },
     "metadata": {},
     "output_type": "display_data"
    },
    {
     "data": {
      "text/latex": [
       "$\\displaystyle \\frac{c_{1}}{16} + \\frac{c_{2}}{16} - \\frac{3 c_{3}}{16} + \\frac{175}{16}$"
      ],
      "text/plain": [
       "c1/16 + c2/16 - 3*c3/16 + 175/16"
      ]
     },
     "metadata": {},
     "output_type": "display_data"
    }
   ],
   "source": [
    "#| echo: false\n",
    "sol=solve([d_profit1_Q,d_profit2_Q,d_profit3_Q],[q1,q2,q3])\n",
    "\n",
    "display(sol[q1])\n",
    "display(sol[q2])\n",
    "display(sol[q3])"
   ]
  },
  {
   "cell_type": "markdown",
   "id": "5ba987ce-a745-45f8-b2bd-283b89809680",
   "metadata": {},
   "source": [
    "### Op + p\n",
    "P = 175 - 4 (qm + 2qbg)"
   ]
  },
  {
   "cell_type": "code",
   "execution_count": 17,
   "id": "5d696a85-cc85-4ed7-a590-90b00c35befc",
   "metadata": {},
   "outputs": [],
   "source": [
    "#| echo: false\n",
    "cournot=lambdify(\n",
    "    (a,b,c1,c2,c3), \n",
    "    (sol[q1],sol[q2],sol[q3])\n",
    ")"
   ]
  },
  {
   "cell_type": "code",
   "execution_count": 18,
   "id": "456fed1b-a01d-459a-ad43-73d791e70372",
   "metadata": {},
   "outputs": [
    {
     "data": {
      "text/plain": [
       "(10.875, 10.125, 10.125)"
      ]
     },
     "execution_count": 18,
     "metadata": {},
     "output_type": "execute_result"
    }
   ],
   "source": [
    "#| echo: false\n",
    "cournot(175,4,7,10,10)"
   ]
  },
  {
   "cell_type": "code",
   "execution_count": 19,
   "id": "5bb9d1d4-087f-493b-81da-2e3b0818f770",
   "metadata": {},
   "outputs": [],
   "source": [
    "#| echo: false\n",
    "a_value=175\n",
    "b_value=4\n",
    "c1_value=7\n",
    "c2_value=10\n",
    "c3_value=10"
   ]
  },
  {
   "cell_type": "code",
   "execution_count": 20,
   "id": "b54ed3a5-edb5-405e-a544-42b0a1781a45",
   "metadata": {},
   "outputs": [
    {
     "name": "stdout",
     "output_type": "stream",
     "text": [
      "50.5\n"
     ]
    }
   ],
   "source": [
    "#| echo: false\n",
    "q1sol, q2sol, q3sol=cournot(a_value,b_value,c1_value,c2_value,c3_value)\n",
    "print (P_demand(q1sol+q2sol+q3sol,a_value,b_value))"
   ]
  },
  {
   "cell_type": "markdown",
   "id": "2a2d5b78-8fdc-41c4-87bf-282a9498c5a9",
   "metadata": {},
   "source": [
    "### Profitt\n",
    "(P - c) - q - FC"
   ]
  },
  {
   "cell_type": "code",
   "execution_count": 21,
   "id": "33ae9c1a-769a-48c1-ab2c-49481739d701",
   "metadata": {},
   "outputs": [
    {
     "name": "stdout",
     "output_type": "stream",
     "text": [
      "\n",
      "Mack produserer 10.875 med profitt 173.0625, \n",
      "Graff produserer 10.125 med profitt 110.0625 og  \n",
      "Bryggeri 13 produserer 10.125 med profitt 110.0625\n",
      "prisen blir 50.5\n"
     ]
    }
   ],
   "source": [
    "#| echo: false\n",
    "print(f\"\"\"\n",
    "Mack produserer {q1sol} med profitt {profit_(q1sol,q2sol,q3sol,c1_value,a_value,b_value,fc)}, \n",
    "Graff produserer {q2sol} med profitt {profit_(q2sol,q1sol,q3sol,c2_value,a_value,b_value,fc)} og  \n",
    "Bryggeri 13 produserer {q3sol} med profitt {profit_(q3sol,q1sol,q2sol,c3_value,a_value,b_value,fc)}\n",
    "prisen blir {P_demand(q1sol+q2sol+q3sol,a_value,b_value)}\"\"\")"
   ]
  },
  {
   "cell_type": "code",
   "execution_count": 22,
   "id": "c407973d-b102-45ef-8f07-73f2211f120e",
   "metadata": {},
   "outputs": [],
   "source": [
    "#| echo: false\n",
    "def P_demand1(Q,a,b):\n",
    "    return 175-4*Q\n",
    "\n",
    "def profitF(q1,q2,c,a,b,fc):\n",
    "    return (P_demand(q1+q2,a,b)-c)*q1 - fc"
   ]
  },
  {
   "cell_type": "code",
   "execution_count": 23,
   "id": "73f7bb89-adce-4bf4-bf91-f5570550618c",
   "metadata": {},
   "outputs": [],
   "source": [
    "#| echo: false\n",
    "fc1 = 500\n",
    "fc2 = 300"
   ]
  },
  {
   "cell_type": "code",
   "execution_count": 24,
   "id": "d43070bb-cb35-4412-ab5f-99a6fee753fb",
   "metadata": {},
   "outputs": [
    {
     "data": {
      "text/latex": [
       "$\\displaystyle - c_{1} - 8 q_{1} - 4 q_{2} + 175$"
      ],
      "text/plain": [
       "-c1 - 8*q1 - 4*q2 + 175"
      ]
     },
     "metadata": {},
     "output_type": "display_data"
    },
    {
     "data": {
      "text/latex": [
       "$\\displaystyle - c_{2} - 4 q_{1} - 8 q_{2} + 175$"
      ],
      "text/plain": [
       "-c2 - 4*q1 - 8*q2 + 175"
      ]
     },
     "metadata": {},
     "output_type": "display_data"
    }
   ],
   "source": [
    "#| echo: false\n",
    "d_profitF1_Q=diff(profitF(q1,q2,c1,a,b,fc1),q1)\n",
    "d_profitF2_Q=diff(profitF(q2,q1,c2,a,b,fc2),q2)\n",
    "\n",
    "display(d_profitF1_Q)\n",
    "display(d_profitF2_Q)"
   ]
  },
  {
   "cell_type": "code",
   "execution_count": 25,
   "id": "f346c442-6896-4ead-95f1-13ad8cbbe1f4",
   "metadata": {},
   "outputs": [
    {
     "data": {
      "text/latex": [
       "$\\displaystyle - \\frac{c_{1}}{6} + \\frac{c_{2}}{12} + \\frac{175}{12}$"
      ],
      "text/plain": [
       "-c1/6 + c2/12 + 175/12"
      ]
     },
     "metadata": {},
     "output_type": "display_data"
    },
    {
     "data": {
      "text/latex": [
       "$\\displaystyle \\frac{c_{1}}{12} - \\frac{c_{2}}{6} + \\frac{175}{12}$"
      ],
      "text/plain": [
       "c1/12 - c2/6 + 175/12"
      ]
     },
     "metadata": {},
     "output_type": "display_data"
    }
   ],
   "source": [
    "#| echo: false\n",
    "sol=solve([d_profitF1_Q,d_profitF2_Q],[q1,q2])\n",
    "\n",
    "display(sol[q1])\n",
    "display(sol[q2])"
   ]
  },
  {
   "cell_type": "code",
   "execution_count": 26,
   "id": "48c97312-047b-40b5-9102-ee86439b4c5e",
   "metadata": {},
   "outputs": [],
   "source": [
    "#| echo: false\n",
    "cournot=lambdify(\n",
    "    (a,b,c1,c2), \n",
    "    (sol[q1],sol[q2])\n",
    ")"
   ]
  },
  {
   "cell_type": "code",
   "execution_count": 27,
   "id": "7c373f1a-f87e-46f2-ab39-83afc9a80645",
   "metadata": {},
   "outputs": [
    {
     "data": {
      "text/plain": [
       "(14.25, 13.5)"
      ]
     },
     "execution_count": 27,
     "metadata": {},
     "output_type": "execute_result"
    }
   ],
   "source": [
    "#| echo: false\n",
    "cournot(175,4,7,10)"
   ]
  },
  {
   "cell_type": "code",
   "execution_count": 28,
   "id": "d8d2480f-de18-4dec-9a43-26e8d72a5dc6",
   "metadata": {},
   "outputs": [],
   "source": [
    "#| echo: false\n",
    "a_value=175\n",
    "b_value=4\n",
    "c1_value=7\n",
    "c2_value=10"
   ]
  },
  {
   "cell_type": "markdown",
   "id": "bd6c4c8f-9771-4e88-a0a0-942d111be3b8",
   "metadata": {},
   "source": [
    "Vil en slik fusjon være lønnsom for de fusjonerte partene?"
   ]
  },
  {
   "cell_type": "markdown",
   "id": "7319427d-e824-475d-857a-43ea29f7b8a9",
   "metadata": {},
   "source": [
    "Før fusjon: Mack produserer 10 875 med profitt 1 730 625\n",
    "\n",
    "Før fusjon: Graff produserer 10 125 med profitt 1 100 625\n",
    "\n",
    "Før Fusjon: Bryggeri 13 produserer 10 125 med profitt 1 100 625\n",
    "\n",
    "Etter fusjon: Mack Mikrobryggeri 13, 3 122 500 nesten en fordobling av fortjenesten.\n",
    "\n",
    "Hver for seg ville Mack og Bryggeri 13 ha produsert for 2 831 250, men i fusjonen produserer de for 3 122 500. Fusjonen står for en økning av inntekt på 291 250.\n",
    "\n",
    "Selv om fusjonen er lønnsom for Mack har det nå fusjonerte bryggeriet tapt en andel av markedet til den gjenværende konkurrenten.\n",
    "Mack og 13 sto til sammen for 2/3 av markedet, maks lønnsomhet måtte Mack ha absorbert minst 80% av det eksisterende markedet, på grunn av slik markedet nå er oppbygget er ikke dette mulig dersom Mack kun kjøper opp Bryggeri 13."
   ]
  },
  {
   "cell_type": "code",
   "execution_count": 29,
   "id": "34b227c9-4ada-4b9a-a791-69abe626f641",
   "metadata": {},
   "outputs": [
    {
     "name": "stdout",
     "output_type": "stream",
     "text": [
      "64.0\n"
     ]
    }
   ],
   "source": [
    "#| echo: false\n",
    "q1sol, q2sol=cournot(a_value,b_value,c1_value,c2_value)\n",
    "print (P_demand(q1sol+q2sol,a_value,b_value))"
   ]
  },
  {
   "cell_type": "code",
   "execution_count": 46,
   "id": "466dd59d-dc77-400f-b312-5da0b4d6236f",
   "metadata": {},
   "outputs": [
    {
     "name": "stdout",
     "output_type": "stream",
     "text": [
      "Løsningen er at \n",
      "Mack Mikrobrygg 13 14.25 enheter som gir profitt lik 312.25 og \n",
      "prisen i markedet blir 64.0\n"
     ]
    }
   ],
   "source": [
    "#| echo: false\n",
    "print(f\"\"\" \n",
    "Mack Mikrobrygg 13 {q1sol} enheter som gir profitt lik {profitF(q1sol,q2sol,c1_value,a_value,b_value,fc1)} og \n",
    "prisen i markedet blir {P_demand1(q1sol+q2sol,a_value,b_value)}\"\"\")"
   ]
  },
  {
   "cell_type": "code",
   "execution_count": 47,
   "id": "2e564d02-63ee-4407-b317-bf7edfbe4964",
   "metadata": {},
   "outputs": [
    {
     "name": "stdout",
     "output_type": "stream",
     "text": [
      "Løsningen er at \n",
      "Graff Brygghus 13.5 enheter som gir profitt lik 429.0 og \n",
      "prisen i markedet blir 64.0\n"
     ]
    }
   ],
   "source": [
    "#| echo: false\n",
    "print(f\"\"\" \n",
    "Graff Brygghus {q2sol} enheter som gir profitt lik {profitF(q2sol,q1sol,c2_value,a_value,b_value,fc2)} og \n",
    "prisen i markedet blir {P_demand1(q1sol+q2sol,a_value,b_value)}\"\"\")"
   ]
  },
  {
   "cell_type": "markdown",
   "id": "5892f12d-62c1-4f89-b38f-b058834d4373",
   "metadata": {},
   "source": []
  },
  {
   "cell_type": "markdown",
   "id": "5b9e8a73-2d6e-4b80-bcfd-e8e1712d5e3c",
   "metadata": {},
   "source": [
    "B)\n",
    "\n",
    "𝑃 = 175 − 2*𝑄\n",
    "\n",
    "MC = 7\n",
    "\n",
    "lcmg = 500 000\n",
    "\n",
    "flc = 600 000"
   ]
  },
  {
   "cell_type": "code",
   "execution_count": 32,
   "id": "0bd141c7-28a6-4cbc-8e64-4313895e26b3",
   "metadata": {},
   "outputs": [],
   "source": [
    "#| echo: false\n",
    "def P_demand2(Q,a,b):\n",
    "    return 175-2*Q\n",
    "\n",
    "def profitG(q1,q2,c,a,b,fc):\n",
    "    return (P_demand(q1+q2,a,b)-c)*q1 - fc"
   ]
  },
  {
   "cell_type": "code",
   "execution_count": 33,
   "id": "a8a0ea95-67eb-4ccb-8afa-d730b6c27233",
   "metadata": {},
   "outputs": [],
   "source": [
    "#| echo: false\n",
    "fc3 = 600"
   ]
  },
  {
   "cell_type": "code",
   "execution_count": 34,
   "id": "0c6f4895-4ced-4c73-837d-f2fc2e446b68",
   "metadata": {},
   "outputs": [
    {
     "data": {
      "text/latex": [
       "$\\displaystyle - c_{1} - 8 q_{1} - 4 q_{2} + 175$"
      ],
      "text/plain": [
       "-c1 - 8*q1 - 4*q2 + 175"
      ]
     },
     "metadata": {},
     "output_type": "display_data"
    },
    {
     "data": {
      "text/latex": [
       "$\\displaystyle - c_{2} - 4 q_{1} - 8 q_{2} + 175$"
      ],
      "text/plain": [
       "-c2 - 4*q1 - 8*q2 + 175"
      ]
     },
     "metadata": {},
     "output_type": "display_data"
    }
   ],
   "source": [
    "#| echo: false\n",
    "d_profitF1_Q_=diff(profitG(q1,q2,c1,a,b,fc3),q1)\n",
    "d_profitF2_Q_=diff(profitG(q2,q1,c2,a,b,fc3),q2)\n",
    "\n",
    "display(d_profitF1_Q_)\n",
    "display(d_profitF2_Q_)"
   ]
  },
  {
   "cell_type": "code",
   "execution_count": 35,
   "id": "89124b1b-34df-4d14-92e1-47a3592c222b",
   "metadata": {},
   "outputs": [
    {
     "data": {
      "text/latex": [
       "$\\displaystyle - \\frac{c_{1}}{6} + \\frac{c_{2}}{12} + \\frac{175}{12}$"
      ],
      "text/plain": [
       "-c1/6 + c2/12 + 175/12"
      ]
     },
     "metadata": {},
     "output_type": "display_data"
    },
    {
     "data": {
      "text/latex": [
       "$\\displaystyle \\frac{c_{1}}{12} - \\frac{c_{2}}{6} + \\frac{175}{12}$"
      ],
      "text/plain": [
       "c1/12 - c2/6 + 175/12"
      ]
     },
     "metadata": {},
     "output_type": "display_data"
    }
   ],
   "source": [
    "#| echo: false\n",
    "sol_=solve([d_profitF1_Q_,d_profitF2_Q_],[q1,q2])\n",
    "\n",
    "display(sol_[q1])\n",
    "display(sol_[q2])"
   ]
  },
  {
   "cell_type": "code",
   "execution_count": 36,
   "id": "4e7740cc-694b-44f3-aba0-d5ae4222cc39",
   "metadata": {},
   "outputs": [],
   "source": [
    "#| echo: false\n",
    "cournot_=lambdify(\n",
    "    (a,b,c1,c2), \n",
    "    (sol_[q1],sol[q2])\n",
    ")"
   ]
  },
  {
   "cell_type": "code",
   "execution_count": 37,
   "id": "8c4a8c41-2ff6-4c50-8f65-46bc239525c3",
   "metadata": {},
   "outputs": [
    {
     "data": {
      "text/plain": [
       "(14.25, 13.5)"
      ]
     },
     "execution_count": 37,
     "metadata": {},
     "output_type": "execute_result"
    }
   ],
   "source": [
    "#| echo: false\n",
    "cournot_(175,2,7,10)"
   ]
  },
  {
   "cell_type": "markdown",
   "id": "efa4e180-1f3e-401b-b17d-06abfc64ae4f",
   "metadata": {},
   "source": [
    "### Cournot for monopol\n",
    "\n",
    "Q = r\n",
    "\n",
    "MRR - r - Q*R = A - C/2B => A - r/2B\n",
    "\n",
    "r = MR = 175 - 4Q\n",
    "\n",
    "Q*0 = 2(A-C/3B)\n",
    "\n",
    "r* = 175 - 4(2(A - C/3B))\n",
    "\n",
    "mg = (r* - c) - q*\n",
    "\n",
    "Q* = (A - C/ 2B)\n",
    "\n",
    "r* = 175 - 4 (A - C/2B)\n",
    "\n",
    "ε = (r* -C) * Q\n",
    "\n",
    "ε < M + G"
   ]
  },
  {
   "cell_type": "code",
   "execution_count": 38,
   "id": "160c6301-afa7-41ad-89ad-3e6f15a6d39a",
   "metadata": {},
   "outputs": [],
   "source": [
    "#| echo: false\n",
    "a_value_=175\n",
    "b_value_=2\n",
    "c1_value_=7\n",
    "c2_value_=10"
   ]
  },
  {
   "cell_type": "code",
   "execution_count": 39,
   "id": "ac8a6d9a-a58f-4855-98c6-19b6235c173b",
   "metadata": {},
   "outputs": [
    {
     "name": "stdout",
     "output_type": "stream",
     "text": [
      "119.5\n"
     ]
    }
   ],
   "source": [
    "#| echo: false\n",
    "q1sol_, q2sol_=cournot_(a_value_,b_value_,c1_value_,c2_value_)\n",
    "print (P_demand2(q1sol_+q2sol_,a_value_,b_value_))"
   ]
  },
  {
   "cell_type": "code",
   "execution_count": 40,
   "id": "b0d27531-2190-4f18-9a2e-528b96e20344",
   "metadata": {},
   "outputs": [
    {
     "name": "stdout",
     "output_type": "stream",
     "text": [
      " \n",
      "bedriftene produserer 14.25 enheter som gir profitt lik 312.25 og \n",
      "prisen i markedet blir 119.5\n"
     ]
    }
   ],
   "source": [
    "#| echo: false\n",
    "print(f\"\"\" \n",
    "bedriftene produserer {q1sol_} enheter som gir profitt lik {profitG(q1sol_,q2sol_,c1_value_,a_value_,b_value_,fc1)} og \n",
    "prisen i markedet blir {P_demand2(q1sol_+q2sol_,a_value_,b_value_)}\"\"\")"
   ]
  },
  {
   "cell_type": "code",
   "execution_count": 41,
   "id": "93aa2074-e0f5-488f-aeaf-71dea524cd11",
   "metadata": {},
   "outputs": [
    {
     "name": "stdout",
     "output_type": "stream",
     "text": [
      " \n",
      "bedriftene produserer 13.5 enheter som gir profitt lik 129.0 og \n",
      "prisen i markedet blir 119.5\n"
     ]
    }
   ],
   "source": [
    "#| echo: false\n",
    "print(f\"\"\" \n",
    "bedriftene produserer {q2sol_} enheter som gir profitt lik {profitG(q2sol_,q1sol_,c2_value_,a_value_,b_value_,fc3)} og \n",
    "prisen i markedet blir {P_demand2(q1sol_+q2sol_,a_value_,b_value_)}\"\"\")"
   ]
  },
  {
   "cell_type": "markdown",
   "id": "9f658cc7-a67c-49a9-9a8f-3cc1178cdd40",
   "metadata": {},
   "source": [
    "Basert på din analyse, vil du anbefale styret i Mack Mikrobrygg 13 å gjennomføre fusjon med\n",
    "Graff Brygghus?"
   ]
  },
  {
   "cell_type": "markdown",
   "id": "2aa07c3e-d12b-45a7-bf42-c53acd3a8bca",
   "metadata": {},
   "source": [
    "For at Mack Mikrobrygg 13 skal ha økonomiske insentiver til å fusjonere med Graff brygghus forutsetter det at de ekstra pådratte kostnadene det fusjonerte bryggeriet ikke utveier det økte produksjons og inntjeningsområdet.\n",
    "\n",
    "Før fusjoneringen hadde Mack mikrobrygg 13 faste kostnader på 500 000, etter fusjonering har bryggeriet faste kostnader på 600 000, altså en økning på 100 000. Før fusjonering hadde Mack Mikrobryggeri 13 en inntekt på 3 122 200, etter fusjoneringen minker dette til 1 290 000. \n",
    "\n",
    "Dette er en såpass dramatisk minking av profitt at det ikke finnes økonomiske insentiver til å gjennomføre en slik fusjon, og derfor kan ikke fusjonering av alle bryggeriene på dette markedet anbefales."
   ]
  },
  {
   "cell_type": "markdown",
   "id": "3eefa8f0-81f7-4cc8-8456-cc4210b29119",
   "metadata": {},
   "source": [
    "Hva blir de samfunnsøkonomiske konsekvensene av en fusjon mellom Mack Mikrobrygg 13 og\n",
    "Graff Brygghus?"
   ]
  },
  {
   "cell_type": "markdown",
   "id": "09757ed1-2e18-4c4a-889a-2ca1fc3a31af",
   "metadata": {},
   "source": [
    "En fusjon mellom Mack Mikrobrygg 13 og Graff brygghus vil resultere i mindre utvalg da man blir kvitt en produsent på markedet, men viktigere så resulterer dette i mindre kvantum produsert totalt. Mindre kvantum blir prisen på markedet høyere totalt fordi det nå er mindre utvalg og mengde av produkter på markedet.\n",
    "\n",
    "Denne fusjonereringen gjør at antall produkter produsert går ned, utvalget blir dårligere og prisene går opp.\n",
    "Fusjoneringen av alle bryggeriene i dette markedet fører til negative samfunnsøkonomiske konsekvenser, men produsenten får et monopol på markedet.\n",
    "\n",
    "Andre negative konsekvenser av dette er at uten konkurranse i markedet har ikke det fusjonerte bryggeriet insentiver til å utvikle eller innovere produktene sine, man kan derfor også over tid forvente en degradering i kvalitet på produktene til det fusjonerte bryggeriet."
   ]
  }
 ],
 "metadata": {
  "kernelspec": {
   "display_name": "Python 3 (ipykernel)",
   "language": "python",
   "name": "python3"
  },
  "language_info": {
   "codemirror_mode": {
    "name": "ipython",
    "version": 3
   },
   "file_extension": ".py",
   "mimetype": "text/x-python",
   "name": "python",
   "nbconvert_exporter": "python",
   "pygments_lexer": "ipython3",
   "version": "3.9.18"
  }
 },
 "nbformat": 4,
 "nbformat_minor": 5
}
